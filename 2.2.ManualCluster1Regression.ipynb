{
 "cells": [
  {
   "cell_type": "markdown",
   "metadata": {},
   "source": [
    "# Building a Regression Model using Machine Learning"
   ]
  },
  {
   "cell_type": "markdown",
   "metadata": {},
   "source": [
    "Applying Logistic Regression, K-NN Regressor, Random Forest Regressor and Multi Layer Perceptron Regressor to each of our clusters. We also calculate the RMSE and MAE value for the train and test data as a performance metric for each of our models to understand the better performing model."
   ]
  },
  {
   "cell_type": "markdown",
   "metadata": {},
   "source": [
    "Import necessary packages and define mean_absolute_percentage_error"
   ]
  },
  {
   "cell_type": "code",
   "execution_count": 1,
   "metadata": {
    "scrolled": true
   },
   "outputs": [
    {
     "name": "stderr",
     "output_type": "stream",
     "text": [
      "/anaconda3/lib/python3.6/site-packages/sklearn/cross_validation.py:41: DeprecationWarning: This module was deprecated in version 0.18 in favor of the model_selection module into which all the refactored classes and functions are moved. Also note that the interface of the new CV iterators are different from that of this module. This module will be removed in 0.20.\n",
      "  \"This module will be removed in 0.20.\", DeprecationWarning)\n"
     ]
    }
   ],
   "source": [
    "import pandas as pd\n",
    "import random\n",
    "import numpy as np\n",
    "import matplotlib.pyplot as plt\n",
    "import seaborn as sns\n",
    "from sklearn.metrics import mean_squared_error\n",
    "from sklearn.metrics import mean_absolute_error\n",
    "from sklearn import linear_model\n",
    "from sklearn.neighbors import KNeighborsRegressor\n",
    "from sklearn.cross_validation import train_test_split  \n",
    "from sklearn.utils import check_array\n",
    "\n",
    "\n",
    "def mean_absolute_percentage_error(y_test,x_predict):\n",
    "    np.seterr(divide='ignore',invalid='ignore')\n",
    "    y_test,x_predict=np.array(y_test),np.array(x_predict) \n",
    "    return np.mean(np.abs((y_test - x_predict)/y_test))*100\n"
   ]
  },
  {
   "cell_type": "markdown",
   "metadata": {},
   "source": [
    "Loading our cluster"
   ]
  },
  {
   "cell_type": "code",
   "execution_count": 2,
   "metadata": {
    "collapsed": true
   },
   "outputs": [],
   "source": [
    "loandata=pd.read_csv('../mcluster_1.csv',encoding=\"ISO-8859-1\")\n",
    "\n"
   ]
  },
  {
   "cell_type": "code",
   "execution_count": 3,
   "metadata": {
    "collapsed": true
   },
   "outputs": [],
   "source": [
    "loandata=loandata[loandata.int_rate!=0]"
   ]
  },
  {
   "cell_type": "markdown",
   "metadata": {},
   "source": [
    "Divide test and train in the 30-70 ratio and separating the int_rate column into y_train, y_test dataframes for building our model"
   ]
  },
  {
   "cell_type": "code",
   "execution_count": 4,
   "metadata": {
    "collapsed": true
   },
   "outputs": [],
   "source": [
    "loandataforprediction=loandata[['loan_amnt','int_rate','term','emp_length','home_ownership','annual_inc','verification_status','purpose','addr_state','dti','delinq_2yrs','Risk_Score','inq_last_6mths','open_acc','revol_bal','revol_util','total_acc','mths_since_last_major_derog','funded_amnt_inv','installment','application_type','pub_rec','addr_state']]\n",
    "\n",
    "loandataforprediction=pd.get_dummies(loandataforprediction, columns=[\"purpose\"])\n",
    "loandataforprediction=pd.get_dummies(loandataforprediction,columns=[\"application_type\"])\n",
    "train,test = train_test_split(loandataforprediction, train_size = 0.7)\n",
    "y_train = train['int_rate']\n",
    "y_test = test['int_rate']\n",
    "x_train = train.loc[:, train.columns != 'int_rate']\n",
    "x_test = test.loc[:, test.columns != 'int_rate']"
   ]
  },
  {
   "cell_type": "code",
   "execution_count": 9,
   "metadata": {},
   "outputs": [
    {
     "data": {
      "text/plain": [
       "Index(['loan_amnt', 'term', 'emp_length', 'home_ownership', 'annual_inc',\n",
       "       'verification_status', 'addr_state', 'dti', 'delinq_2yrs', 'Risk_Score',\n",
       "       'inq_last_6mths', 'open_acc', 'revol_bal', 'revol_util', 'total_acc',\n",
       "       'mths_since_last_major_derog', 'funded_amnt_inv', 'installment',\n",
       "       'pub_rec', 'addr_state', 'purpose_car', 'purpose_credit_card',\n",
       "       'purpose_debt_consolidation', 'purpose_educational',\n",
       "       'purpose_home_improvement', 'purpose_house', 'purpose_major_purchase',\n",
       "       'purpose_medical', 'purpose_moving', 'purpose_other',\n",
       "       'purpose_renewable_energy', 'purpose_small_business',\n",
       "       'purpose_vacation', 'purpose_wedding', 'application_type_Individual',\n",
       "       'application_type_Joint App'],\n",
       "      dtype='object')"
      ]
     },
     "execution_count": 9,
     "metadata": {},
     "output_type": "execute_result"
    }
   ],
   "source": [
    "x_test.columns"
   ]
  },
  {
   "cell_type": "code",
   "execution_count": 18,
   "metadata": {},
   "outputs": [
    {
     "data": {
      "text/plain": [
       "Index(['loan_amnt', 'term', 'emp_length', 'home_ownership', 'annual_inc',\n",
       "       'verification_status', 'addr_state', 'dti', 'delinq_2yrs', 'Risk_Score',\n",
       "       'inq_last_6mths', 'open_acc', 'revol_bal', 'revol_util', 'total_acc',\n",
       "       'mths_since_last_major_derog', 'funded_amnt_inv', 'installment',\n",
       "       'pub_rec', 'addr_state', 'purpose_car', 'purpose_credit_card',\n",
       "       'purpose_debt_consolidation', 'purpose_educational',\n",
       "       'purpose_home_improvement', 'purpose_house', 'purpose_major_purchase',\n",
       "       'purpose_medical', 'purpose_moving', 'purpose_other',\n",
       "       'purpose_renewable_energy', 'purpose_small_business',\n",
       "       'purpose_vacation', 'purpose_wedding', 'application_type_Individual',\n",
       "       'application_type_Joint App'],\n",
       "      dtype='object')"
      ]
     },
     "execution_count": 18,
     "metadata": {},
     "output_type": "execute_result"
    }
   ],
   "source": [
    "  x_train.columns"
   ]
  },
  {
   "cell_type": "markdown",
   "metadata": {},
   "source": [
    "### Machine Learning algorithms used :\n",
    "\n",
    "We have applied below machine learning algorithms and evaluated the performance of the data on each model by calculating the MAE and RMSE for test and train data"
   ]
  },
  {
   "cell_type": "markdown",
   "metadata": {},
   "source": [
    "## Linear Regression"
   ]
  },
  {
   "cell_type": "code",
   "execution_count": 5,
   "metadata": {
    "scrolled": true
   },
   "outputs": [
    {
     "name": "stdout",
     "output_type": "stream",
     "text": [
      "Testing mean absolute error : 2.226257\n",
      "Training mean absolute error: 2.237564\n",
      "RMSE Value for Testing\n",
      "2.855180635495495\n",
      "RMSE Value for Training\n",
      "2.874954543765836\n",
      "MAPE Value for Testing\n",
      "15.420866306236158\n",
      "MAPE Value for Training\n",
      "15.475183694361347\n"
     ]
    }
   ],
   "source": [
    "#Multple Linear Regression Case 1:\n",
    "reg=linear_model.LinearRegression()\n",
    "reg.fit(x_train,y_train)\n",
    "predicted_train=reg.predict(x_train)\n",
    "predicted_test=reg.predict(x_test)\n",
    "print(\"Testing mean absolute error : %f\" %mean_absolute_error(y_test,predicted_test))\n",
    "print(\"Training mean absolute error: %f\" %mean_absolute_error(y_train,predicted_train))\n",
    "rmse=np.sqrt(mean_squared_error(y_test,predicted_test))\n",
    "print(\"RMSE Value for Testing\")\n",
    "print(rmse)\n",
    "rmse=np.sqrt(mean_squared_error(y_train,predicted_train))\n",
    "print(\"RMSE Value for Training\")\n",
    "print(rmse)\n",
    "print(\"MAPE Value for Testing\")\n",
    "print(mean_absolute_percentage_error(y_test, predicted_test))\n",
    "print(\"MAPE Value for Training\")\n",
    "print(mean_absolute_percentage_error(y_train, predicted_train))\n"
   ]
  },
  {
   "cell_type": "markdown",
   "metadata": {},
   "source": [
    "## KNN Regressor"
   ]
  },
  {
   "cell_type": "code",
   "execution_count": 6,
   "metadata": {},
   "outputs": [
    {
     "name": "stdout",
     "output_type": "stream",
     "text": [
      "Testing mean absolute error : 3.545234\n",
      "Training mean absolute error: 2.890865\n",
      "RMSE Value for Testing\n",
      "4.561978845932216\n",
      "RMSE Value for Training\n",
      "3.7154972183741997\n",
      "MAPE Value for Testing\n",
      "24.70862235345669\n",
      "MAPE Value for Training\n",
      "20.123980905350198\n"
     ]
    }
   ],
   "source": [
    "  \n",
    "#KNN Regressor\n",
    "\n",
    "\n",
    "# Create the knn model.\n",
    "# Look at the five closest neighbors.\n",
    "knn = KNeighborsRegressor(n_neighbors=5)\n",
    "# Fit the model on the training data.\n",
    "knn.fit(x_train, y_train)\n",
    "# Make point predictions on the test set using the fit model.\n",
    "predicted_train = knn.predict(x_train)\n",
    "predicted_test = knn.predict(x_test)\n",
    "print(\"Testing mean absolute error : %f\" %mean_absolute_error(y_test,predicted_test))\n",
    "print(\"Training mean absolute error: %f\" %mean_absolute_error(y_train,predicted_train))\n",
    "rmse=np.sqrt(mean_squared_error(y_test,predicted_test))\n",
    "print(\"RMSE Value for Testing\")\n",
    "print(rmse)\n",
    "rmse=np.sqrt(mean_squared_error(y_train,predicted_train))\n",
    "print(\"RMSE Value for Training\")\n",
    "print(rmse)\n",
    "print(\"MAPE Value for Testing\")\n",
    "print(mean_absolute_percentage_error(y_test, predicted_test))\n",
    "print(\"MAPE Value for Training\")\n",
    "print(mean_absolute_percentage_error(y_train, predicted_train))\n"
   ]
  },
  {
   "cell_type": "markdown",
   "metadata": {},
   "source": [
    "## Random Forest Regressor "
   ]
  },
  {
   "cell_type": "code",
   "execution_count": 7,
   "metadata": {},
   "outputs": [
    {
     "name": "stdout",
     "output_type": "stream",
     "text": [
      "Tuning Combination\n",
      "100   1   auto \n",
      "Testing mean absolute error : 0.461424\n",
      "Training mean absolute error: 0.177981\n",
      "RMSE Value for testing\n",
      "0.9935969379216102\n",
      "RMSE Value for training\n",
      "0.38330300573949494\n",
      "MAPE Value for Testing\n",
      "3.39125781330622\n",
      "MAPE Value for Training\n",
      "1.300710883980533\n"
     ]
    }
   ],
   "source": [
    "\n",
    "#RandomForest Regressor\n",
    "from sklearn.ensemble import RandomForestRegressor\n",
    "\n",
    "z='auto'\n",
    "x=100\n",
    "y=1\n",
    "model=RandomForestRegressor(n_estimators=x,max_features=z,oob_score=True,n_jobs=-1,random_state=50,min_samples_leaf=y)\n",
    "model.fit(x_train,y_train)\n",
    "predicted_train=model.predict(x_train)\n",
    "predicted_test=model.predict(x_test)\n",
    "print(\"Tuning Combination\") \n",
    "print(x,\" \",y ,\" \", z,\"\")\n",
    "print(\"Testing mean absolute error : %f\" % mean_absolute_error(y_test,predicted_test))\n",
    "print(\"Training mean absolute error: %f\" %mean_absolute_error(y_train,predicted_train))\n",
    "rmse=np.sqrt(mean_squared_error(y_test,predicted_test))\n",
    "print(\"RMSE Value for testing\")\n",
    "print(rmse)\n",
    "rmse=np.sqrt(mean_squared_error(y_train,predicted_train))\n",
    "print(\"RMSE Value for training\")\n",
    "print(rmse)\n",
    "print(\"MAPE Value for Testing\")\n",
    "print(mean_absolute_percentage_error(y_test, predicted_test))\n",
    "print(\"MAPE Value for Training\")\n",
    "print(mean_absolute_percentage_error(y_train, predicted_train))\n"
   ]
  },
  {
   "cell_type": "code",
   "execution_count": 8,
   "metadata": {},
   "outputs": [
    {
     "data": {
      "text/plain": [
       "['Manual_Cluster_1_Regression.pkl']"
      ]
     },
     "execution_count": 8,
     "metadata": {},
     "output_type": "execute_result"
    }
   ],
   "source": [
    "from sklearn.externals import joblib\n",
    "joblib.dump(model,'Manual_Cluster_1_Regression.pkl')"
   ]
  },
  {
   "cell_type": "code",
   "execution_count": 16,
   "metadata": {
    "collapsed": true
   },
   "outputs": [],
   "source": [
    "pd.set_option(\"display.max_columns\",100)"
   ]
  },
  {
   "cell_type": "code",
   "execution_count": 17,
   "metadata": {
    "scrolled": true
   },
   "outputs": [
    {
     "data": {
      "text/html": [
       "<div>\n",
       "<style scoped>\n",
       "    .dataframe tbody tr th:only-of-type {\n",
       "        vertical-align: middle;\n",
       "    }\n",
       "\n",
       "    .dataframe tbody tr th {\n",
       "        vertical-align: top;\n",
       "    }\n",
       "\n",
       "    .dataframe thead th {\n",
       "        text-align: right;\n",
       "    }\n",
       "</style>\n",
       "<table border=\"1\" class=\"dataframe\">\n",
       "  <thead>\n",
       "    <tr style=\"text-align: right;\">\n",
       "      <th></th>\n",
       "      <th>loan_amnt</th>\n",
       "      <th>term</th>\n",
       "      <th>emp_length</th>\n",
       "      <th>home_ownership</th>\n",
       "      <th>annual_inc</th>\n",
       "      <th>verification_status</th>\n",
       "      <th>addr_state</th>\n",
       "      <th>dti</th>\n",
       "      <th>delinq_2yrs</th>\n",
       "      <th>Risk_Score</th>\n",
       "      <th>inq_last_6mths</th>\n",
       "      <th>open_acc</th>\n",
       "      <th>revol_bal</th>\n",
       "      <th>revol_util</th>\n",
       "      <th>total_acc</th>\n",
       "      <th>mths_since_last_major_derog</th>\n",
       "      <th>funded_amnt_inv</th>\n",
       "      <th>installment</th>\n",
       "      <th>pub_rec</th>\n",
       "      <th>addr_state</th>\n",
       "      <th>purpose_car</th>\n",
       "      <th>purpose_credit_card</th>\n",
       "      <th>purpose_debt_consolidation</th>\n",
       "      <th>purpose_educational</th>\n",
       "      <th>purpose_home_improvement</th>\n",
       "      <th>purpose_house</th>\n",
       "      <th>purpose_major_purchase</th>\n",
       "      <th>purpose_medical</th>\n",
       "      <th>purpose_moving</th>\n",
       "      <th>purpose_other</th>\n",
       "      <th>purpose_renewable_energy</th>\n",
       "      <th>purpose_small_business</th>\n",
       "      <th>purpose_vacation</th>\n",
       "      <th>purpose_wedding</th>\n",
       "      <th>application_type_Individual</th>\n",
       "      <th>application_type_Joint App</th>\n",
       "    </tr>\n",
       "  </thead>\n",
       "  <tbody>\n",
       "    <tr>\n",
       "      <th>255765</th>\n",
       "      <td>20000</td>\n",
       "      <td>36.0</td>\n",
       "      <td>2</td>\n",
       "      <td>0.0</td>\n",
       "      <td>100000</td>\n",
       "      <td>1.0</td>\n",
       "      <td>48</td>\n",
       "      <td>18.61</td>\n",
       "      <td>0</td>\n",
       "      <td>667.0</td>\n",
       "      <td>1</td>\n",
       "      <td>8</td>\n",
       "      <td>13934</td>\n",
       "      <td>61.9</td>\n",
       "      <td>20</td>\n",
       "      <td>0.0</td>\n",
       "      <td>20000</td>\n",
       "      <td>703.34</td>\n",
       "      <td>0</td>\n",
       "      <td>48</td>\n",
       "      <td>0</td>\n",
       "      <td>0</td>\n",
       "      <td>1</td>\n",
       "      <td>0</td>\n",
       "      <td>0</td>\n",
       "      <td>0</td>\n",
       "      <td>0</td>\n",
       "      <td>0</td>\n",
       "      <td>0</td>\n",
       "      <td>0</td>\n",
       "      <td>0</td>\n",
       "      <td>0</td>\n",
       "      <td>0</td>\n",
       "      <td>0</td>\n",
       "      <td>1</td>\n",
       "      <td>0</td>\n",
       "    </tr>\n",
       "  </tbody>\n",
       "</table>\n",
       "</div>"
      ],
      "text/plain": [
       "        loan_amnt  term  emp_length  home_ownership  annual_inc  \\\n",
       "255765      20000  36.0           2             0.0      100000   \n",
       "\n",
       "        verification_status  addr_state    dti  delinq_2yrs  Risk_Score  \\\n",
       "255765                  1.0          48  18.61            0       667.0   \n",
       "\n",
       "        inq_last_6mths  open_acc  revol_bal  revol_util  total_acc  \\\n",
       "255765               1         8      13934        61.9         20   \n",
       "\n",
       "        mths_since_last_major_derog  funded_amnt_inv  installment  pub_rec  \\\n",
       "255765                          0.0            20000       703.34        0   \n",
       "\n",
       "        addr_state  purpose_car  purpose_credit_card  \\\n",
       "255765          48            0                    0   \n",
       "\n",
       "        purpose_debt_consolidation  purpose_educational  \\\n",
       "255765                           1                    0   \n",
       "\n",
       "        purpose_home_improvement  purpose_house  purpose_major_purchase  \\\n",
       "255765                         0              0                       0   \n",
       "\n",
       "        purpose_medical  purpose_moving  purpose_other  \\\n",
       "255765                0               0              0   \n",
       "\n",
       "        purpose_renewable_energy  purpose_small_business  purpose_vacation  \\\n",
       "255765                         0                       0                 0   \n",
       "\n",
       "        purpose_wedding  application_type_Individual  \\\n",
       "255765                0                            1   \n",
       "\n",
       "        application_type_Joint App  \n",
       "255765                           0  "
      ]
     },
     "execution_count": 17,
     "metadata": {},
     "output_type": "execute_result"
    }
   ],
   "source": [
    "\n",
    "x_test.head(1)"
   ]
  },
  {
   "cell_type": "markdown",
   "metadata": {},
   "source": [
    "## MLP Regressor "
   ]
  },
  {
   "cell_type": "code",
   "execution_count": 7,
   "metadata": {},
   "outputs": [
    {
     "name": "stdout",
     "output_type": "stream",
     "text": [
      "Testing mean absolute error : 4.876669\n",
      "training mean absolute error: 4.876405\n",
      "RMSE Value For Testing\n",
      "10.892714936184587\n",
      "RMSE Value For Training\n",
      "10.534031304342854\n",
      "MAPE Value for Testing\n",
      "34.405790493457886\n",
      "MAPE Value for Training\n",
      "34.484994980984524\n"
     ]
    }
   ],
   "source": [
    "\n",
    "#Neural Network Case 1:\n",
    "#List of Alpha Values\n",
    "from sklearn.neural_network import MLPRegressor\n",
    "hidden_layers=[]\n",
    "alpha=[10]\n",
    "\n",
    "\n",
    "for a in alpha:  \n",
    "    nn = MLPRegressor(hidden_layer_sizes=(100,),  activation='relu', solver='adam', alpha=a,batch_size='auto',learning_rate='constant',\n",
    "    learning_rate_init=0.001, max_iter=1000, shuffle=True,random_state=50, tol=0.0001, verbose=False, warm_start=False,\n",
    "    early_stopping=False, validation_fraction=0.1, beta_1=0.9, beta_2=0.999, epsilon=1e-08)\n",
    "    n = nn.fit(x_train,y_train)\n",
    "    predicted_trainnn=n.predict(x_train)\n",
    "    predicted_testnn=n.predict(x_test)\n",
    "    print(\"Testing mean absolute error : %f\" % mean_absolute_error(y_test,predicted_testnn))\n",
    "    print(\"training mean absolute error: %f\"% mean_absolute_error(y_train,predicted_trainnn))\n",
    "    rmse=np.sqrt(mean_squared_error(y_test,predicted_testnn))\n",
    "    print(\"RMSE Value For Testing\")\n",
    "    print(rmse)\n",
    "    rmse=np.sqrt(mean_squared_error(y_train,predicted_trainnn))\n",
    "    print(\"RMSE Value For Training\")\n",
    "    print(rmse)\n",
    "    print(\"MAPE Value for Testing\")\n",
    "    print(mean_absolute_percentage_error(y_test, predicted_testnn))\n",
    "    print(\"MAPE Value for Training\")\n",
    "    print(mean_absolute_percentage_error(y_train, predicted_trainnn))"
   ]
  },
  {
   "cell_type": "markdown",
   "metadata": {
    "collapsed": true
   },
   "source": [
    "# Conclusion :\n",
    "\n",
    "#### We see that the Random Forest Regressor outperforms for this cluster of FICO Score clustering with MAE for test and train as 0.46 and 0.17 "
   ]
  },
  {
   "cell_type": "markdown",
   "metadata": {},
   "source": [
    "The text in the document by Tushar Goel & Trupti Gore is licensed under CC BY 3.0 https://creativecommons.org/licenses/by/3.0/us/\n",
    "\n",
    "### MIT License\n",
    "\n",
    "The code in the document by Tushar Goel & Trupti Gore is licensed under the MIT License https://opensource.org/licenses/MIT \n",
    "\n",
    "Copyright (c) 2018 Trupti Gore\n",
    "\n",
    "Permission is hereby granted, free of charge, to any person obtaining a copy\n",
    "of this software and associated documentation files (the \"Software\"), to deal\n",
    "in the Software without restriction, including without limitation the rights\n",
    "to use, copy, modify, merge, publish, distribute, sublicense, and/or sell\n",
    "copies of the Software, and to permit persons to whom the Software is\n",
    "furnished to do so, subject to the following conditions:\n",
    "\n",
    "The above copyright notice and this permission notice shall be included in all\n",
    "copies or substantial portions of the Software.\n",
    "\n",
    "THE SOFTWARE IS PROVIDED \"AS IS\", WITHOUT WARRANTY OF ANY KIND, EXPRESS OR\n",
    "IMPLIED, INCLUDING BUT NOT LIMITED TO THE WARRANTIES OF MERCHANTABILITY,\n",
    "FITNESS FOR A PARTICULAR PURPOSE AND NONINFRINGEMENT. IN NO EVENT SHALL THE\n",
    "AUTHORS OR COPYRIGHT HOLDERS BE LIABLE FOR ANY CLAIM, DAMAGES OR OTHER\n",
    "LIABILITY, WHETHER IN AN ACTION OF CONTRACT, TORT OR OTHERWISE, ARISING FROM,\n",
    "OUT OF OR IN CONNECTION WITH THE SOFTWARE OR THE USE OR OTHER DEALINGS IN THE\n",
    "SOFTWARE.\n"
   ]
  }
 ],
 "metadata": {
  "kernelspec": {
   "display_name": "Python 3",
   "language": "python",
   "name": "python3"
  },
  "language_info": {
   "codemirror_mode": {
    "name": "ipython",
    "version": 3
   },
   "file_extension": ".py",
   "mimetype": "text/x-python",
   "name": "python",
   "nbconvert_exporter": "python",
   "pygments_lexer": "ipython3",
   "version": "3.6.4"
  }
 },
 "nbformat": 4,
 "nbformat_minor": 2
}
