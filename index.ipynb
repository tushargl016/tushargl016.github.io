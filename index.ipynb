{
 "cells": [
  {
   "cell_type": "markdown",
   "metadata": {},
   "source": [
    "# Loan Risk Assessment using Machine Learning "
   ]
  },
  {
   "cell_type": "markdown",
   "metadata": {},
   "source": [
    " In today's world, each one of us does our best effort to keep our financial records clean. Everytime we plan to buy or rent a property or even buy a credit card, a credit check is run inorder to verify the financial standing of a applicant. Depending on the financial history, a user is offered a good interest rate. "
   ]
  },
  {
   "cell_type": "markdown",
   "metadata": {},
   "source": [
    "The Lending loan club is a online platform designed to bring together the investors and borrowers by encouraging a fair monetary transaction of lending and borrowing. This has helped to foster growth of small businesses and let people take control of their debt."
   ]
  },
  {
   "cell_type": "markdown",
   "metadata": {},
   "source": [
    "We have built a machine a model which is capable of predicting the eligibility for a loan applicant and interest rate if eligible. Let's begin with understanding how our model is structured."
   ]
  },
  {
   "cell_type": "markdown",
   "metadata": {},
   "source": [
    "### Preliminary Step\n",
    " An applicant begins with creating an online profile and is required to enter his detail stating his requirements. The system is designed to check the user’s eligibility for the quoted requirement based on his/her financial standing and market situation. The user is intimated about his eligibility and if eligible, the amount for which the loan was sanctioned with the interest rate. This is the most critical aspect and is the business generator for the Lending Club. It has to be ensured that the given interest rate is fair to both the customer and the bank from the transaction point of view."
   ]
  },
  {
   "cell_type": "markdown",
   "metadata": {},
   "source": [
    "For our study, we have scraped data from the Lending Club Data website. While the data was readily available on Kaggle, it was not updated(older data). We scraped data for the applicants with their loan request approved and declined for our study. We structured our understanding of the model and drew the below outline."
   ]
  },
  {
   "cell_type": "markdown",
   "metadata": {},
   "source": [
    "## Structure of our Model\n",
    "\n",
    "<img src=\"document.jpg\">"
   ]
  },
  {
   "cell_type": "markdown",
   "metadata": {},
   "source": [
    "## Exploratory Data Analysis \n",
    "\n",
    "We have done a pre-study of the data trend to understand how the data was trending. This can be seen in the link [here](0.Exploratory Data Analysis.html)"
   ]
  },
  {
   "cell_type": "markdown",
   "metadata": {},
   "source": [
    "## Data Download\n",
    "\n",
    "We created a user profile from a registered email id and built a [LUIGI](LUIGI_Commands) pipeline and used [Beautiful Soup](http://www.pythonforbeginners.com/beautifulsoup/beautifulsoup-4-python) package in order to scrape into [declined.py](declined.py) and [approved.py](loandata.py). The data for each of the cases were downloaded by two separate .py files. These files are attached along with this package. "
   ]
  },
  {
   "cell_type": "markdown",
   "metadata": {},
   "source": [
    "## Pre-processing of Data\n",
    "\n",
    "The downloaded data needed cleaning like removal of punctuations, junk text, white spaces in between and changing data types for operable columns."
   ]
  },
  {
   "cell_type": "markdown",
   "metadata": {},
   "source": [
    "### Handling Missing Values\n",
    "\n",
    "We decided that to delete the columns of whose values were missing for over 80%. For the other columns with values missing below 80%, we filled them up by using mean, median, max of the columns."
   ]
  },
  {
   "cell_type": "markdown",
   "metadata": {},
   "source": [
    "Introducing Risk Score column which is a derived column by averaging the max and min FICO score."
   ]
  },
  {
   "cell_type": "markdown",
   "metadata": {},
   "source": [
    "### Feature Engineering :\n",
    "\n",
    "Owing to the size of the data of the loan approved and declined data, we needed to narrow our scope of our input data(over 100 columns) to fewer columns. We studied the input data asked to a new applicant,and selected only those columns and did feature selection for further processing."
   ]
  },
  {
   "cell_type": "markdown",
   "metadata": {},
   "source": [
    "Once this is done, we have our files ready for building our model."
   ]
  },
  {
   "cell_type": "markdown",
   "metadata": {},
   "source": [
    "# Phase 1 : Assessment of Loan Eligibility - Classification Model\n",
    "\n",
    "Building the classification model for deciding whether the user is eligible for loan. Please check [Classification Model](1.Classification.html) to understand how we built our classification model"
   ]
  },
  {
   "cell_type": "markdown",
   "metadata": {},
   "source": [
    "### As per our structure, if a user is not eligible, a message displaying \"You are currently not eligible for the loan\" is displayed. If eligible, the model moves to the phase 2, where the profile is evaluated for the loan amount and interest sanctioned to the user."
   ]
  },
  {
   "cell_type": "markdown",
   "metadata": {},
   "source": [
    "# Phase 2 : Evaluation of Loan Amount and Interest Rate sanctioned"
   ]
  },
  {
   "cell_type": "markdown",
   "metadata": {},
   "source": [
    "We have built used three techniques to evaluate an eligible applicant's profile. Click on the links below to see the model built and its performance in each case."
   ]
  },
  {
   "cell_type": "markdown",
   "metadata": {},
   "source": [
    "### K-means Clustering :\n",
    "Clusters are formed as [this](2.1.Clustering Algorithm_final.html)\n",
    "\n",
    "Applying Logistic Regression, K-NN Regressor, Random Forest Regressor and Multi Layer Perceptron Regressor to each of our clusters. We also calculate the RMSE and MAE value for the train and test data as a performance metric for each of our models to understand the better performing model.\n",
    "##### Below is the clusters formed\n",
    "[Cluster 1](3.1.KmeansCluster0Regression.html)\n",
    "[Cluster 2](3.2.KmeansCluster1Regression.html)\n",
    "[Cluster 3](3.3.KmeansCluster2Regression.html)\n",
    "[Cluster 4](3.4.KmeansCluster3Regression.html)"
   ]
  },
  {
   "cell_type": "markdown",
   "metadata": {},
   "source": [
    "### Manual Clustering (Risk Score)\n",
    "\n",
    "Clusters are formed as [this](2.1.ManualClustering.html)\n",
    "\n",
    "Applying Logistic Regression, K-NN Regressor, Random Forest Regressor and Multi Layer Perceptron Regressor to each of our clusters. We also calculate the RMSE and MAE value for the train and test data as a performance metric for each of our models to understand the better performing model.\n",
    "\n",
    "##### Below is the clusters formed\n",
    "[Cluster 1](2.2.ManualCluster1Regression.html)\n",
    "[Cluster 2](2.3.ManualCluster2Regression.html)\n",
    "[Cluster 3](2.4.ManualCluster3Regression.html)\n",
    "[Cluster 4](2.5.ManualCluster4Regression.html)"
   ]
  },
  {
   "cell_type": "markdown",
   "metadata": {},
   "source": [
    "### No Clustering \n",
    "\n",
    "Applying Logistic Regression, K-NN Regressor, Random Forest Regressor and Multi Layer Perceptron Regressor to each of our clusters. We also calculate the RMSE and MAE value for the train and test data as a performance metric for each of our models to understand the better performing model.\n",
    "\n",
    "Follow this [link](4.NoclusteringRegression.html) to see the piece of code"
   ]
  },
  {
   "cell_type": "markdown",
   "metadata": {},
   "source": [
    "Reading our data downloaded from the [declined.py](declined.py) and [approved.py](loandata.py) files"
   ]
  },
  {
   "cell_type": "markdown",
   "metadata": {},
   "source": [
    "The text in the document by Tushar Goel & Trupti Gore is licensed under CC BY 3.0 https://creativecommons.org/licenses/by/3.0/us/\n",
    "\n",
    "### MIT License\n",
    "\n",
    "The code in the document by Tushar Goel & Trupti Gore is licensed under the MIT License https://opensource.org/licenses/MIT \n",
    "\n",
    "Copyright (c) 2018 Trupti Gore\n",
    "\n",
    "Permission is hereby granted, free of charge, to any person obtaining a copy\n",
    "of this software and associated documentation files (the \"Software\"), to deal\n",
    "in the Software without restriction, including without limitation the rights\n",
    "to use, copy, modify, merge, publish, distribute, sublicense, and/or sell\n",
    "copies of the Software, and to permit persons to whom the Software is\n",
    "furnished to do so, subject to the following conditions:\n",
    "\n",
    "The above copyright notice and this permission notice shall be included in all\n",
    "copies or substantial portions of the Software.\n",
    "\n",
    "THE SOFTWARE IS PROVIDED \"AS IS\", WITHOUT WARRANTY OF ANY KIND, EXPRESS OR\n",
    "IMPLIED, INCLUDING BUT NOT LIMITED TO THE WARRANTIES OF MERCHANTABILITY,\n",
    "FITNESS FOR A PARTICULAR PURPOSE AND NONINFRINGEMENT. IN NO EVENT SHALL THE\n",
    "AUTHORS OR COPYRIGHT HOLDERS BE LIABLE FOR ANY CLAIM, DAMAGES OR OTHER\n",
    "LIABILITY, WHETHER IN AN ACTION OF CONTRACT, TORT OR OTHERWISE, ARISING FROM,\n",
    "OUT OF OR IN CONNECTION WITH THE SOFTWARE OR THE USE OR OTHER DEALINGS IN THE\n",
    "SOFTWARE.\n"
   ]
  }
 ],
 "metadata": {
  "kernelspec": {
   "display_name": "Python 3",
   "language": "python",
   "name": "python3"
  },
  "language_info": {
   "codemirror_mode": {
    "name": "ipython",
    "version": 3
   },
   "file_extension": ".py",
   "mimetype": "text/x-python",
   "name": "python",
   "nbconvert_exporter": "python",
   "pygments_lexer": "ipython3",
   "version": "3.6.4"
  }
 },
 "nbformat": 4,
 "nbformat_minor": 2
}
