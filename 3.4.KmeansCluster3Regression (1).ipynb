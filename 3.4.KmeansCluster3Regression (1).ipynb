{
 "cells": [
  {
   "cell_type": "markdown",
   "metadata": {},
   "source": [
    "# Building a Regression Model (KMeans Clustering) using Machine Learning "
   ]
  },
  {
   "cell_type": "markdown",
   "metadata": {},
   "source": [
    "Applying Logistic Regression, K-NN Regressor, Random Forest Regressor and Multi Layer Perceptron Regressor to each of our clusters. We also calculate the RMSE and MAE value for the train and test data as a performance metric for each of our models to understand the better performing model."
   ]
  },
  {
   "cell_type": "markdown",
   "metadata": {},
   "source": [
    "Import necessary packages and define mean_absolute_percentage_error"
   ]
  },
  {
   "cell_type": "code",
   "execution_count": 1,
   "metadata": {},
   "outputs": [
    {
     "name": "stderr",
     "output_type": "stream",
     "text": [
      "c:\\python27\\lib\\site-packages\\sklearn\\cross_validation.py:41: DeprecationWarning: This module was deprecated in version 0.18 in favor of the model_selection module into which all the refactored classes and functions are moved. Also note that the interface of the new CV iterators are different from that of this module. This module will be removed in 0.20.\n",
      "  \"This module will be removed in 0.20.\", DeprecationWarning)\n"
     ]
    }
   ],
   "source": [
    "import pandas as pd\n",
    "import random\n",
    "import numpy as np\n",
    "import matplotlib.pyplot as plt\n",
    "import seaborn as sns\n",
    "from sklearn.metrics import mean_squared_error\n",
    "from sklearn.metrics import mean_absolute_error\n",
    "from sklearn import linear_model\n",
    "from sklearn.neighbors import KNeighborsRegressor\n",
    "from sklearn.cross_validation import train_test_split  \n",
    "from sklearn.utils import check_array\n",
    "\n",
    "\n",
    "def mean_absolute_percentage_error(y_test,x_predict):\n",
    "    np.seterr(divide='ignore',invalid='ignore')\n",
    "    y_test,x_predict=np.array(y_test),np.array(x_predict) \n",
    "    return np.mean(np.abs((y_test - x_predict)/y_test))*100\n"
   ]
  },
  {
   "cell_type": "markdown",
   "metadata": {},
   "source": [
    "Load Cluster"
   ]
  },
  {
   "cell_type": "code",
   "execution_count": 2,
   "metadata": {
    "collapsed": true
   },
   "outputs": [],
   "source": [
    "loandata=pd.read_csv('cluster3.csv',encoding=\"ISO-8859-1\")\n",
    "\n"
   ]
  },
  {
   "cell_type": "code",
   "execution_count": 3,
   "metadata": {
    "collapsed": true
   },
   "outputs": [],
   "source": [
    "loandata=loandata[loandata.int_rate!=0]"
   ]
  },
  {
   "cell_type": "markdown",
   "metadata": {},
   "source": [
    "Divide test and train in the 30-70 ratio and separating the int_rate column into y_train, y_test dataframes for building our model"
   ]
  },
  {
   "cell_type": "code",
   "execution_count": 4,
   "metadata": {
    "collapsed": true
   },
   "outputs": [],
   "source": [
    "loandataforprediction=loandata[['loan_amnt','int_rate','term','emp_length','home_ownership','annual_inc','verification_status','purpose','addr_state','dti','delinq_2yrs','Risk_Score','inq_last_6mths','open_acc','revol_bal','revol_util','total_acc','mths_since_last_major_derog','funded_amnt_inv','installment','application_type','pub_rec','addr_state']]\n",
    "\n",
    "loandataforprediction=pd.get_dummies(loandataforprediction, columns=[\"purpose\"])\n",
    "loandataforprediction=pd.get_dummies(loandataforprediction,columns=[\"application_type\"])\n",
    "train,test = train_test_split(loandataforprediction, train_size = 0.7)\n",
    "y_train = train['int_rate']\n",
    "y_test = test['int_rate']\n",
    "x_train = train.loc[:, train.columns != 'int_rate']\n",
    "x_test = test.loc[:, test.columns != 'int_rate']"
   ]
  },
  {
   "cell_type": "markdown",
   "metadata": {},
   "source": [
    "### Machine Learning algorithms used :\n",
    "\n",
    "We have applied below machine learning algorithms and evaluated the performance of the data on each model by calculating the MAE and RMSE for test and train data"
   ]
  },
  {
   "cell_type": "markdown",
   "metadata": {},
   "source": [
    "## Linear Regression"
   ]
  },
  {
   "cell_type": "code",
   "execution_count": 5,
   "metadata": {},
   "outputs": [
    {
     "name": "stdout",
     "output_type": "stream",
     "text": [
      "Testing mean absolute error : 1.162224\n",
      "Training mean absolute error: 1.161734\n",
      "RMSE Value for Testing\n",
      "1.61704634321\n",
      "RMSE Value for Training\n",
      "1.62071260134\n",
      "MAPE Value for Testing\n",
      "9.61941925112\n",
      "MAPE Value for Training\n",
      "9.59630107929\n"
     ]
    }
   ],
   "source": [
    "#Multple Linear Regression Case 1:\n",
    "reg=linear_model.LinearRegression()\n",
    "reg.fit(x_train,y_train)\n",
    "predicted_train=reg.predict(x_train)\n",
    "predicted_test=reg.predict(x_test)\n",
    "print(\"Testing mean absolute error : %f\" %mean_absolute_error(y_test,predicted_test))\n",
    "print(\"Training mean absolute error: %f\" %mean_absolute_error(y_train,predicted_train))\n",
    "rmse=np.sqrt(mean_squared_error(y_test,predicted_test))\n",
    "print(\"RMSE Value for Testing\")\n",
    "print(rmse)\n",
    "rmse=np.sqrt(mean_squared_error(y_train,predicted_train))\n",
    "print(\"RMSE Value for Training\")\n",
    "print(rmse)\n",
    "print(\"MAPE Value for Testing\")\n",
    "print(mean_absolute_percentage_error(y_test, predicted_test))\n",
    "print(\"MAPE Value for Training\")\n",
    "print(mean_absolute_percentage_error(y_train, predicted_train))\n"
   ]
  },
  {
   "cell_type": "code",
   "execution_count": 1,
   "metadata": {
    "collapsed": true
   },
   "outputs": [],
   "source": [
    "## KNN Regressor"
   ]
  },
  {
   "cell_type": "code",
   "execution_count": 6,
   "metadata": {},
   "outputs": [
    {
     "name": "stdout",
     "output_type": "stream",
     "text": [
      "Testing mean absolute error : 3.581730\n",
      "Training mean absolute error: 2.894301\n",
      "RMSE Value for Testing\n",
      "4.65497172055\n",
      "RMSE Value for Training\n",
      "3.77356901555\n",
      "MAPE Value for Testing\n",
      "30.8065811187\n",
      "MAPE Value for Training\n",
      "24.794504981\n"
     ]
    }
   ],
   "source": [
    "  \n",
    "#KNN Regressor\n",
    "\n",
    "\n",
    "# Create the knn model.\n",
    "# Look at the five closest neighbors.\n",
    "knn = KNeighborsRegressor(n_neighbors=5)\n",
    "# Fit the model on the training data.\n",
    "knn.fit(x_train, y_train)\n",
    "# Make point predictions on the test set using the fit model.\n",
    "predicted_train = knn.predict(x_train)\n",
    "predicted_test = knn.predict(x_test)\n",
    "print(\"Testing mean absolute error : %f\" %mean_absolute_error(y_test,predicted_test))\n",
    "print(\"Training mean absolute error: %f\" %mean_absolute_error(y_train,predicted_train))\n",
    "rmse=np.sqrt(mean_squared_error(y_test,predicted_test))\n",
    "print(\"RMSE Value for Testing\")\n",
    "print(rmse)\n",
    "rmse=np.sqrt(mean_squared_error(y_train,predicted_train))\n",
    "print(\"RMSE Value for Training\")\n",
    "print(rmse)\n",
    "print(\"MAPE Value for Testing\")\n",
    "print(mean_absolute_percentage_error(y_test, predicted_test))\n",
    "print(\"MAPE Value for Training\")\n",
    "print(mean_absolute_percentage_error(y_train, predicted_train))\n"
   ]
  },
  {
   "cell_type": "markdown",
   "metadata": {},
   "source": [
    "## RandomForest Regressor"
   ]
  },
  {
   "cell_type": "code",
   "execution_count": 7,
   "metadata": {
    "scrolled": true
   },
   "outputs": [
    {
     "name": "stdout",
     "output_type": "stream",
     "text": [
      "Tuning Combination\n",
      "(100, ' ', 1, ' ', 'auto', '')\n",
      "Testing mean absolute error : 0.023746\n",
      "Training mean absolute error: 0.009399\n",
      "RMSE Value for testing\n",
      "0.125986630824\n",
      "RMSE Value for training\n",
      "0.0491870343412\n",
      "MAPE Value for Testing\n",
      "0.189031056481\n",
      "MAPE Value for Training\n",
      "0.0750257037069\n",
      "Tuning Combination\n",
      "(100, ' ', 2, ' ', 'auto', '')\n",
      "Testing mean absolute error : 0.025150\n",
      "Training mean absolute error: 0.012425\n",
      "RMSE Value for testing\n",
      "0.128317892437\n",
      "RMSE Value for training\n",
      "0.0680403787089\n",
      "MAPE Value for Testing\n",
      "0.203359488297\n",
      "MAPE Value for Training\n",
      "0.102110952762\n"
     ]
    }
   ],
   "source": [
    "\n",
    "#RandomForest Regressor\n",
    "from sklearn.ensemble import RandomForestRegressor\n",
    "\n",
    "max_features=['auto']\n",
    "n_estimators=[100]\n",
    "min_samples_leaf=[1,2]\n",
    "for x in n_estimators:\n",
    "    for y in min_samples_leaf:\n",
    "        for z in max_features:\n",
    "            model=RandomForestRegressor(n_estimators=x,max_features=z,oob_score=True,n_jobs=-1,random_state=50,min_samples_leaf=y)\n",
    "            model.fit(x_train,y_train)\n",
    "            predicted_train=model.predict(x_train)\n",
    "            predicted_test=model.predict(x_test)\n",
    "            print(\"Tuning Combination\") \n",
    "            print(x,\" \",y ,\" \", z,\"\")\n",
    "            print(\"Testing mean absolute error : %f\" % mean_absolute_error(y_test,predicted_test))\n",
    "            print(\"Training mean absolute error: %f\" %mean_absolute_error(y_train,predicted_train))\n",
    "            rmse=np.sqrt(mean_squared_error(y_test,predicted_test))\n",
    "            print(\"RMSE Value for testing\")\n",
    "            print(rmse)\n",
    "            rmse=np.sqrt(mean_squared_error(y_train,predicted_train))\n",
    "            print(\"RMSE Value for training\")\n",
    "            print(rmse)\n",
    "            print(\"MAPE Value for Testing\")\n",
    "            print(mean_absolute_percentage_error(y_test, predicted_test))\n",
    "            print(\"MAPE Value for Training\")\n",
    "            print(mean_absolute_percentage_error(y_train, predicted_train))\n"
   ]
  },
  {
   "cell_type": "markdown",
   "metadata": {},
   "source": [
    "## MLP Regressor "
   ]
  },
  {
   "cell_type": "code",
   "execution_count": 8,
   "metadata": {},
   "outputs": [
    {
     "name": "stdout",
     "output_type": "stream",
     "text": [
      "Testing mean absolute error : 20.703014\n",
      "training mean absolute error: 20.863420\n",
      "RMSE Value For Testing\n",
      "51.1978936018\n",
      "RMSE Value For Training\n",
      "86.6206419733\n",
      "MAPE Value for Testing\n",
      "180.313941349\n",
      "MAPE Value for Training\n",
      "181.593306124\n"
     ]
    }
   ],
   "source": [
    "\n",
    "#Neural Network Case 1:\n",
    "#List of Alpha Values\n",
    "from sklearn.neural_network import MLPRegressor\n",
    "hidden_layers=[]\n",
    "alpha=[10]\n",
    "\n",
    "\n",
    "for a in alpha:  \n",
    "    nn = MLPRegressor(hidden_layer_sizes=(100,),  activation='relu', solver='adam', alpha=a,batch_size='auto',learning_rate='constant',\n",
    "    learning_rate_init=0.001, max_iter=1000, shuffle=True,random_state=50, tol=0.0001, verbose=False, warm_start=False,\n",
    "    early_stopping=False, validation_fraction=0.1, beta_1=0.9, beta_2=0.999, epsilon=1e-08)\n",
    "    n = nn.fit(x_train,y_train)\n",
    "    predicted_trainnn=n.predict(x_train)\n",
    "    predicted_testnn=n.predict(x_test)\n",
    "    print(\"Testing mean absolute error : %f\" % mean_absolute_error(y_test,predicted_testnn))\n",
    "    print(\"training mean absolute error: %f\"% mean_absolute_error(y_train,predicted_trainnn))\n",
    "    rmse=np.sqrt(mean_squared_error(y_test,predicted_testnn))\n",
    "    print(\"RMSE Value For Testing\")\n",
    "    print(rmse)\n",
    "    rmse=np.sqrt(mean_squared_error(y_train,predicted_trainnn))\n",
    "    print(\"RMSE Value For Training\")\n",
    "    print(rmse)\n",
    "    print(\"MAPE Value for Testing\")\n",
    "    print(mean_absolute_percentage_error(y_test, predicted_testnn))\n",
    "    print(\"MAPE Value for Training\")\n",
    "    print(mean_absolute_percentage_error(y_train, predicted_trainnn))"
   ]
  },
  {
   "cell_type": "markdown",
   "metadata": {
    "collapsed": true
   },
   "source": [
    "# Conclusion :\n",
    "\n",
    "#### We see that the Random Forest Regressor outperforms for this cluster of FICO Score clustering with MAE for test and train as 0.025 and 0.012 "
   ]
  },
  {
   "cell_type": "markdown",
   "metadata": {
    "collapsed": true
   },
   "source": [
    "The text in the document by Tushar Goel & Trupti Gore is licensed under CC BY 3.0 https://creativecommons.org/licenses/by/3.0/us/\n",
    "\n",
    "### MIT License\n",
    "\n",
    "The code in the document by Tushar Goel & Trupti Gore is licensed under the MIT License https://opensource.org/licenses/MIT \n",
    "\n",
    "Copyright (c) 2018 Trupti Gore\n",
    "\n",
    "Permission is hereby granted, free of charge, to any person obtaining a copy\n",
    "of this software and associated documentation files (the \"Software\"), to deal\n",
    "in the Software without restriction, including without limitation the rights\n",
    "to use, copy, modify, merge, publish, distribute, sublicense, and/or sell\n",
    "copies of the Software, and to permit persons to whom the Software is\n",
    "furnished to do so, subject to the following conditions:\n",
    "\n",
    "The above copyright notice and this permission notice shall be included in all\n",
    "copies or substantial portions of the Software.\n",
    "\n",
    "THE SOFTWARE IS PROVIDED \"AS IS\", WITHOUT WARRANTY OF ANY KIND, EXPRESS OR\n",
    "IMPLIED, INCLUDING BUT NOT LIMITED TO THE WARRANTIES OF MERCHANTABILITY,\n",
    "FITNESS FOR A PARTICULAR PURPOSE AND NONINFRINGEMENT. IN NO EVENT SHALL THE\n",
    "AUTHORS OR COPYRIGHT HOLDERS BE LIABLE FOR ANY CLAIM, DAMAGES OR OTHER\n",
    "LIABILITY, WHETHER IN AN ACTION OF CONTRACT, TORT OR OTHERWISE, ARISING FROM,\n",
    "OUT OF OR IN CONNECTION WITH THE SOFTWARE OR THE USE OR OTHER DEALINGS IN THE\n",
    "SOFTWARE.\n"
   ]
  }
 ],
 "metadata": {
  "kernelspec": {
   "display_name": "Python 3",
   "language": "python",
   "name": "python3"
  },
  "language_info": {
   "codemirror_mode": {
    "name": "ipython",
    "version": 3
   },
   "file_extension": ".py",
   "mimetype": "text/x-python",
   "name": "python",
   "nbconvert_exporter": "python",
   "pygments_lexer": "ipython3",
   "version": "3.6.4"
  }
 },
 "nbformat": 4,
 "nbformat_minor": 2
}
